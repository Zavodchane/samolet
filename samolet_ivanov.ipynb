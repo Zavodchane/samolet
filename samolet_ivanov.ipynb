{
  "cells": [
    {
      "cell_type": "code",
      "execution_count": 1,
      "metadata": {
        "colab": {
          "base_uri": "https://localhost:8080/",
          "height": 349
        },
        "id": "zbPOBAEyeT_m",
        "outputId": "263d0354-5515-4ed9-b00f-fc1e1078808b"
      },
      "outputs": [],
      "source": [
        "import pandas as pd\n",
        "import numpy as np\n",
        "\n",
        "import matplotlib.pyplot as plt\n",
        "\n",
        "from sklearn.model_selection import train_test_split, GridSearchCV\n",
        "from sklearn.metrics import mean_squared_error, roc_auc_score\n",
        "import sklearn.metrics as metrics\n",
        "\n",
        "from sklearn.preprocessing import StandardScaler, OneHotEncoder\n",
        "\n",
        "from catboost import CatBoostClassifier"
      ]
    },
    {
      "cell_type": "code",
      "execution_count": 5,
      "metadata": {
        "colab": {
          "base_uri": "https://localhost:8080/"
        },
        "id": "rHkh3I40eT_w",
        "outputId": "c6a7ba92-f969-437f-defb-9816c6e7c8da"
      },
      "outputs": [
        {
          "name": "stderr",
          "output_type": "stream",
          "text": [
            "C:\\Users\\Леонид\\AppData\\Local\\Temp\\ipykernel_7068\\1489391292.py:1: DtypeWarning: Columns (51,52,53,54,55,56,57,58,59,60,61,62,63,64,65,66,87,88,89,90,91,92,93,94,95,96,97,98,99,100,101,102,131,132,133,135,136,139,140,141,142,143,144,145,146,147,148,149,151,152,155,156,157,158,159,160,161,163,164,165,167,168,169,171,172,173,174,175,176,177,178,183,184,185,186,187,188,189,190,191,192,193,194,195,196,197,198,203,204,205,206,207,208,209,210,211,212,213,214,215,216,217,218,223,224,227,239,240,241,242,243,244,245,246,459,460,461,467,468,469,515,516,523,524,531,532,539,540,547,548,555,556,563,564,565,567,571,572,573,575,579,580,581,582,583,587,588,595,596,603,604,611,612,613,615,795,796,797,799,821,822,825,826,1031,1032,1033,1034,1035,1036,1037,1039,1040,1041,1042,1043,1044,1045,1047,1048,1049,1050,1051,1052,1055,1056,1057,1058,1059,1060,1063,1064,1065,1067,1068,1069,1072,1073,1074,1075,1076,1077,1078,1172,1173,1174,1176,1177,1178,1179,1180,1181,1182,1275,1276,1277,1278,1279,1280,1281,1282,1447,1448,1449,1450,1451,1452,1453,1454,1649,1650,1651,1652,1653,1654,1655,1656,2193,2194,2195,2196,2199) have mixed types. Specify dtype option on import or set low_memory=False.\n",
            "  train = pd.read_csv('train_dataset.csv')\n"
          ]
        }
      ],
      "source": [
        "train = pd.read_csv('train_dataset.csv')"
      ]
    },
    {
      "cell_type": "code",
      "execution_count": 6,
      "metadata": {
        "id": "U-QO5ZnfeT_z"
      },
      "outputs": [],
      "source": [
        "cat_cols = [col for col in train.columns if train[col].dtype == 'object']\n",
        "num_cols = [col for col in train.columns if train[col].dtype != 'object']"
      ]
    },
    {
      "cell_type": "code",
      "execution_count": 7,
      "metadata": {
        "id": "or4lHxmsmt_l"
      },
      "outputs": [
        {
          "data": {
            "text/plain": [
              "'target'"
            ]
          },
          "execution_count": 7,
          "metadata": {},
          "output_type": "execute_result"
        }
      ],
      "source": [
        "# for col in num_cols:\n",
        "#     median = train[col].median(skipna=True)\n",
        "#     train[col] = train[col].fillna(median)\n",
        "# train[cat_cols] = train[cat_cols].fillna('')\n",
        "# train[num_cols] = train[num_cols].fillna(0)\n",
        "train_cat = train[cat_cols].fillna('') # .join(train[num_cols])\n",
        "train = train[num_cols].fillna(0).join(train_cat)\n",
        "num_cols.pop(0)\n",
        "num_cols.pop(0)"
      ]
    },
    {
      "cell_type": "code",
      "execution_count": 11,
      "metadata": {
        "id": "K9Xcm-b6wiZ3"
      },
      "outputs": [
        {
          "data": {
            "text/html": [
              "<div>\n",
              "<style scoped>\n",
              "    .dataframe tbody tr th:only-of-type {\n",
              "        vertical-align: middle;\n",
              "    }\n",
              "\n",
              "    .dataframe tbody tr th {\n",
              "        vertical-align: top;\n",
              "    }\n",
              "\n",
              "    .dataframe thead th {\n",
              "        text-align: right;\n",
              "    }\n",
              "</style>\n",
              "<table border=\"1\" class=\"dataframe\">\n",
              "  <thead>\n",
              "    <tr style=\"text-align: right;\">\n",
              "      <th></th>\n",
              "      <th>col1</th>\n",
              "      <th>col2</th>\n",
              "      <th>col3</th>\n",
              "      <th>col4</th>\n",
              "      <th>col5</th>\n",
              "      <th>col6</th>\n",
              "      <th>col7</th>\n",
              "      <th>col8</th>\n",
              "      <th>col9</th>\n",
              "      <th>col10</th>\n",
              "      <th>...</th>\n",
              "      <th>col2654</th>\n",
              "      <th>col2655</th>\n",
              "      <th>col2656</th>\n",
              "      <th>col2657</th>\n",
              "      <th>col2658</th>\n",
              "      <th>col2659</th>\n",
              "      <th>col2660</th>\n",
              "      <th>col2661</th>\n",
              "      <th>col2662</th>\n",
              "      <th>col2663</th>\n",
              "    </tr>\n",
              "  </thead>\n",
              "  <tbody>\n",
              "    <tr>\n",
              "      <th>0</th>\n",
              "      <td>0.0</td>\n",
              "      <td>0.0</td>\n",
              "      <td>0.0</td>\n",
              "      <td>0.0</td>\n",
              "      <td>0.0</td>\n",
              "      <td>0.0</td>\n",
              "      <td>0.0</td>\n",
              "      <td>0.0</td>\n",
              "      <td>0.0</td>\n",
              "      <td>0.0</td>\n",
              "      <td>...</td>\n",
              "      <td>0.0</td>\n",
              "      <td>0.0</td>\n",
              "      <td>0.0</td>\n",
              "      <td>0.0</td>\n",
              "      <td>0.0</td>\n",
              "      <td>0.0</td>\n",
              "      <td>0.0</td>\n",
              "      <td>0.0</td>\n",
              "      <td>0.0</td>\n",
              "      <td>0.256261</td>\n",
              "    </tr>\n",
              "    <tr>\n",
              "      <th>1</th>\n",
              "      <td>0.0</td>\n",
              "      <td>0.0</td>\n",
              "      <td>0.0</td>\n",
              "      <td>0.0</td>\n",
              "      <td>0.0</td>\n",
              "      <td>0.0</td>\n",
              "      <td>0.0</td>\n",
              "      <td>0.0</td>\n",
              "      <td>0.0</td>\n",
              "      <td>0.0</td>\n",
              "      <td>...</td>\n",
              "      <td>7616803.0</td>\n",
              "      <td>7616803.0</td>\n",
              "      <td>7616803.0</td>\n",
              "      <td>0.0</td>\n",
              "      <td>0.0</td>\n",
              "      <td>0.0</td>\n",
              "      <td>7616803.0</td>\n",
              "      <td>7616803.0</td>\n",
              "      <td>7616803.0</td>\n",
              "      <td>0.256261</td>\n",
              "    </tr>\n",
              "    <tr>\n",
              "      <th>2</th>\n",
              "      <td>0.0</td>\n",
              "      <td>0.0</td>\n",
              "      <td>0.0</td>\n",
              "      <td>0.0</td>\n",
              "      <td>0.0</td>\n",
              "      <td>0.0</td>\n",
              "      <td>0.0</td>\n",
              "      <td>0.0</td>\n",
              "      <td>0.0</td>\n",
              "      <td>0.0</td>\n",
              "      <td>...</td>\n",
              "      <td>0.0</td>\n",
              "      <td>0.0</td>\n",
              "      <td>0.0</td>\n",
              "      <td>0.0</td>\n",
              "      <td>0.0</td>\n",
              "      <td>0.0</td>\n",
              "      <td>0.0</td>\n",
              "      <td>0.0</td>\n",
              "      <td>0.0</td>\n",
              "      <td>0.256261</td>\n",
              "    </tr>\n",
              "    <tr>\n",
              "      <th>3</th>\n",
              "      <td>0.0</td>\n",
              "      <td>0.0</td>\n",
              "      <td>0.0</td>\n",
              "      <td>0.0</td>\n",
              "      <td>0.0</td>\n",
              "      <td>0.0</td>\n",
              "      <td>0.0</td>\n",
              "      <td>0.0</td>\n",
              "      <td>0.0</td>\n",
              "      <td>0.0</td>\n",
              "      <td>...</td>\n",
              "      <td>0.0</td>\n",
              "      <td>0.0</td>\n",
              "      <td>0.0</td>\n",
              "      <td>0.0</td>\n",
              "      <td>0.0</td>\n",
              "      <td>0.0</td>\n",
              "      <td>0.0</td>\n",
              "      <td>0.0</td>\n",
              "      <td>0.0</td>\n",
              "      <td>0.258682</td>\n",
              "    </tr>\n",
              "    <tr>\n",
              "      <th>4</th>\n",
              "      <td>0.0</td>\n",
              "      <td>0.0</td>\n",
              "      <td>0.0</td>\n",
              "      <td>0.0</td>\n",
              "      <td>0.0</td>\n",
              "      <td>0.0</td>\n",
              "      <td>0.0</td>\n",
              "      <td>0.0</td>\n",
              "      <td>0.0</td>\n",
              "      <td>0.0</td>\n",
              "      <td>...</td>\n",
              "      <td>0.0</td>\n",
              "      <td>0.0</td>\n",
              "      <td>0.0</td>\n",
              "      <td>0.0</td>\n",
              "      <td>0.0</td>\n",
              "      <td>0.0</td>\n",
              "      <td>0.0</td>\n",
              "      <td>0.0</td>\n",
              "      <td>0.0</td>\n",
              "      <td>0.254164</td>\n",
              "    </tr>\n",
              "    <tr>\n",
              "      <th>...</th>\n",
              "      <td>...</td>\n",
              "      <td>...</td>\n",
              "      <td>...</td>\n",
              "      <td>...</td>\n",
              "      <td>...</td>\n",
              "      <td>...</td>\n",
              "      <td>...</td>\n",
              "      <td>...</td>\n",
              "      <td>...</td>\n",
              "      <td>...</td>\n",
              "      <td>...</td>\n",
              "      <td>...</td>\n",
              "      <td>...</td>\n",
              "      <td>...</td>\n",
              "      <td>...</td>\n",
              "      <td>...</td>\n",
              "      <td>...</td>\n",
              "      <td>...</td>\n",
              "      <td>...</td>\n",
              "      <td>...</td>\n",
              "      <td>...</td>\n",
              "    </tr>\n",
              "    <tr>\n",
              "      <th>14451</th>\n",
              "      <td>0.0</td>\n",
              "      <td>0.0</td>\n",
              "      <td>0.0</td>\n",
              "      <td>0.0</td>\n",
              "      <td>0.0</td>\n",
              "      <td>0.0</td>\n",
              "      <td>0.0</td>\n",
              "      <td>0.0</td>\n",
              "      <td>0.0</td>\n",
              "      <td>0.0</td>\n",
              "      <td>...</td>\n",
              "      <td>0.0</td>\n",
              "      <td>0.0</td>\n",
              "      <td>0.0</td>\n",
              "      <td>0.0</td>\n",
              "      <td>0.0</td>\n",
              "      <td>0.0</td>\n",
              "      <td>0.0</td>\n",
              "      <td>0.0</td>\n",
              "      <td>0.0</td>\n",
              "      <td>0.276902</td>\n",
              "    </tr>\n",
              "    <tr>\n",
              "      <th>14452</th>\n",
              "      <td>0.0</td>\n",
              "      <td>0.0</td>\n",
              "      <td>0.0</td>\n",
              "      <td>0.0</td>\n",
              "      <td>0.0</td>\n",
              "      <td>0.0</td>\n",
              "      <td>0.0</td>\n",
              "      <td>0.0</td>\n",
              "      <td>0.0</td>\n",
              "      <td>0.0</td>\n",
              "      <td>...</td>\n",
              "      <td>0.0</td>\n",
              "      <td>0.0</td>\n",
              "      <td>0.0</td>\n",
              "      <td>0.0</td>\n",
              "      <td>0.0</td>\n",
              "      <td>0.0</td>\n",
              "      <td>0.0</td>\n",
              "      <td>0.0</td>\n",
              "      <td>0.0</td>\n",
              "      <td>0.260516</td>\n",
              "    </tr>\n",
              "    <tr>\n",
              "      <th>14453</th>\n",
              "      <td>0.0</td>\n",
              "      <td>0.0</td>\n",
              "      <td>0.0</td>\n",
              "      <td>0.0</td>\n",
              "      <td>0.0</td>\n",
              "      <td>0.0</td>\n",
              "      <td>0.0</td>\n",
              "      <td>0.0</td>\n",
              "      <td>0.0</td>\n",
              "      <td>0.0</td>\n",
              "      <td>...</td>\n",
              "      <td>0.0</td>\n",
              "      <td>0.0</td>\n",
              "      <td>0.0</td>\n",
              "      <td>0.0</td>\n",
              "      <td>0.0</td>\n",
              "      <td>0.0</td>\n",
              "      <td>0.0</td>\n",
              "      <td>0.0</td>\n",
              "      <td>0.0</td>\n",
              "      <td>0.260005</td>\n",
              "    </tr>\n",
              "    <tr>\n",
              "      <th>14454</th>\n",
              "      <td>0.0</td>\n",
              "      <td>0.0</td>\n",
              "      <td>0.0</td>\n",
              "      <td>0.0</td>\n",
              "      <td>0.0</td>\n",
              "      <td>0.0</td>\n",
              "      <td>0.0</td>\n",
              "      <td>0.0</td>\n",
              "      <td>0.0</td>\n",
              "      <td>0.0</td>\n",
              "      <td>...</td>\n",
              "      <td>0.0</td>\n",
              "      <td>0.0</td>\n",
              "      <td>0.0</td>\n",
              "      <td>0.0</td>\n",
              "      <td>0.0</td>\n",
              "      <td>0.0</td>\n",
              "      <td>0.0</td>\n",
              "      <td>0.0</td>\n",
              "      <td>0.0</td>\n",
              "      <td>0.256261</td>\n",
              "    </tr>\n",
              "    <tr>\n",
              "      <th>14455</th>\n",
              "      <td>0.0</td>\n",
              "      <td>0.0</td>\n",
              "      <td>0.0</td>\n",
              "      <td>0.0</td>\n",
              "      <td>0.0</td>\n",
              "      <td>0.0</td>\n",
              "      <td>0.0</td>\n",
              "      <td>0.0</td>\n",
              "      <td>0.0</td>\n",
              "      <td>0.0</td>\n",
              "      <td>...</td>\n",
              "      <td>0.0</td>\n",
              "      <td>0.0</td>\n",
              "      <td>0.0</td>\n",
              "      <td>0.0</td>\n",
              "      <td>0.0</td>\n",
              "      <td>0.0</td>\n",
              "      <td>0.0</td>\n",
              "      <td>0.0</td>\n",
              "      <td>0.0</td>\n",
              "      <td>0.293904</td>\n",
              "    </tr>\n",
              "  </tbody>\n",
              "</table>\n",
              "<p>14456 rows × 2313 columns</p>\n",
              "</div>"
            ],
            "text/plain": [
              "       col1  col2  col3  col4  col5  col6  col7  col8  col9  col10  ...  \\\n",
              "0       0.0   0.0   0.0   0.0   0.0   0.0   0.0   0.0   0.0    0.0  ...   \n",
              "1       0.0   0.0   0.0   0.0   0.0   0.0   0.0   0.0   0.0    0.0  ...   \n",
              "2       0.0   0.0   0.0   0.0   0.0   0.0   0.0   0.0   0.0    0.0  ...   \n",
              "3       0.0   0.0   0.0   0.0   0.0   0.0   0.0   0.0   0.0    0.0  ...   \n",
              "4       0.0   0.0   0.0   0.0   0.0   0.0   0.0   0.0   0.0    0.0  ...   \n",
              "...     ...   ...   ...   ...   ...   ...   ...   ...   ...    ...  ...   \n",
              "14451   0.0   0.0   0.0   0.0   0.0   0.0   0.0   0.0   0.0    0.0  ...   \n",
              "14452   0.0   0.0   0.0   0.0   0.0   0.0   0.0   0.0   0.0    0.0  ...   \n",
              "14453   0.0   0.0   0.0   0.0   0.0   0.0   0.0   0.0   0.0    0.0  ...   \n",
              "14454   0.0   0.0   0.0   0.0   0.0   0.0   0.0   0.0   0.0    0.0  ...   \n",
              "14455   0.0   0.0   0.0   0.0   0.0   0.0   0.0   0.0   0.0    0.0  ...   \n",
              "\n",
              "         col2654    col2655    col2656  col2657  col2658  col2659    col2660  \\\n",
              "0            0.0        0.0        0.0      0.0      0.0      0.0        0.0   \n",
              "1      7616803.0  7616803.0  7616803.0      0.0      0.0      0.0  7616803.0   \n",
              "2            0.0        0.0        0.0      0.0      0.0      0.0        0.0   \n",
              "3            0.0        0.0        0.0      0.0      0.0      0.0        0.0   \n",
              "4            0.0        0.0        0.0      0.0      0.0      0.0        0.0   \n",
              "...          ...        ...        ...      ...      ...      ...        ...   \n",
              "14451        0.0        0.0        0.0      0.0      0.0      0.0        0.0   \n",
              "14452        0.0        0.0        0.0      0.0      0.0      0.0        0.0   \n",
              "14453        0.0        0.0        0.0      0.0      0.0      0.0        0.0   \n",
              "14454        0.0        0.0        0.0      0.0      0.0      0.0        0.0   \n",
              "14455        0.0        0.0        0.0      0.0      0.0      0.0        0.0   \n",
              "\n",
              "         col2661    col2662   col2663  \n",
              "0            0.0        0.0  0.256261  \n",
              "1      7616803.0  7616803.0  0.256261  \n",
              "2            0.0        0.0  0.256261  \n",
              "3            0.0        0.0  0.258682  \n",
              "4            0.0        0.0  0.254164  \n",
              "...          ...        ...       ...  \n",
              "14451        0.0        0.0  0.276902  \n",
              "14452        0.0        0.0  0.260516  \n",
              "14453        0.0        0.0  0.260005  \n",
              "14454        0.0        0.0  0.256261  \n",
              "14455        0.0        0.0  0.293904  \n",
              "\n",
              "[14456 rows x 2313 columns]"
            ]
          },
          "execution_count": 11,
          "metadata": {},
          "output_type": "execute_result"
        }
      ],
      "source": [
        "train"
      ]
    },
    {
      "cell_type": "code",
      "execution_count": 10,
      "metadata": {
        "id": "Q8eIT2Z6eT_-"
      },
      "outputs": [],
      "source": [
        "# train[cat_cols] = train[cat_cols].fillna('') # .join(train[num_cols])\n",
        "# train = train[num_cols].fillna(0) # .join(train_cat)"
      ]
    },
    {
      "cell_type": "code",
      "execution_count": 77,
      "metadata": {
        "colab": {
          "base_uri": "https://localhost:8080/"
        },
        "id": "IZXyB9fjeT_1",
        "outputId": "026d7ca0-9f12-4dd4-9447-0c3b2881bbab"
      },
      "outputs": [
        {
          "name": "stdout",
          "output_type": "stream",
          "text": [
            "<class 'pandas.core.frame.DataFrame'>\n",
            "RangeIndex: 14456 entries, 0 to 14455\n",
            "Columns: 2666 entries, report_date to col2663\n",
            "dtypes: float64(2312), int64(3), object(351)\n",
            "memory usage: 294.0+ MB\n"
          ]
        }
      ],
      "source": [
        "# train = train.fillna(0)\n",
        "train.info()"
      ]
    },
    {
      "cell_type": "code",
      "execution_count": 9,
      "metadata": {
        "colab": {
          "base_uri": "https://localhost:8080/"
        },
        "id": "fRxNascHeT_3",
        "outputId": "26ba1dff-4615-4658-b27a-e9957b29df34"
      },
      "outputs": [
        {
          "data": {
            "text/plain": [
              "report_date    0\n",
              "client_id      0\n",
              "target         0\n",
              "col1           0\n",
              "col2           0\n",
              "              ..\n",
              "col2659        0\n",
              "col2660        0\n",
              "col2661        0\n",
              "col2662        0\n",
              "col2663        0\n",
              "Length: 2666, dtype: int64"
            ]
          },
          "execution_count": 9,
          "metadata": {},
          "output_type": "execute_result"
        }
      ],
      "source": [
        "train.isna().sum()"
      ]
    },
    {
      "cell_type": "code",
      "execution_count": null,
      "metadata": {
        "id": "WXHHkzo4eT__"
      },
      "outputs": [],
      "source": [
        "sns.pairplot(data, hue='target')\n",
        "\n",
        "plt.show()"
      ]
    },
    {
      "cell_type": "code",
      "execution_count": 6,
      "metadata": {
        "colab": {
          "base_uri": "https://localhost:8080/",
          "height": 443
        },
        "id": "_lz2B9QGeUAA",
        "outputId": "391ad51e-1213-4d20-d39a-274f79d7df42"
      },
      "outputs": [
        {
          "data": {
            "text/html": [
              "<div>\n",
              "<style scoped>\n",
              "    .dataframe tbody tr th:only-of-type {\n",
              "        vertical-align: middle;\n",
              "    }\n",
              "\n",
              "    .dataframe tbody tr th {\n",
              "        vertical-align: top;\n",
              "    }\n",
              "\n",
              "    .dataframe thead th {\n",
              "        text-align: right;\n",
              "    }\n",
              "</style>\n",
              "<table border=\"1\" class=\"dataframe\">\n",
              "  <thead>\n",
              "    <tr style=\"text-align: right;\">\n",
              "      <th></th>\n",
              "      <th>report_date</th>\n",
              "      <th>client_id</th>\n",
              "      <th>target</th>\n",
              "      <th>col1</th>\n",
              "      <th>col2</th>\n",
              "      <th>col3</th>\n",
              "      <th>col4</th>\n",
              "      <th>col5</th>\n",
              "      <th>col6</th>\n",
              "      <th>col7</th>\n",
              "      <th>...</th>\n",
              "      <th>col2654</th>\n",
              "      <th>col2655</th>\n",
              "      <th>col2656</th>\n",
              "      <th>col2657</th>\n",
              "      <th>col2658</th>\n",
              "      <th>col2659</th>\n",
              "      <th>col2660</th>\n",
              "      <th>col2661</th>\n",
              "      <th>col2662</th>\n",
              "      <th>col2663</th>\n",
              "    </tr>\n",
              "  </thead>\n",
              "  <tbody>\n",
              "    <tr>\n",
              "      <th>0</th>\n",
              "      <td>2022-11-01</td>\n",
              "      <td>1</td>\n",
              "      <td>0</td>\n",
              "      <td>0.0</td>\n",
              "      <td>0.0</td>\n",
              "      <td>0.0</td>\n",
              "      <td>0.0</td>\n",
              "      <td>0.0</td>\n",
              "      <td>0.0</td>\n",
              "      <td>0.0</td>\n",
              "      <td>...</td>\n",
              "      <td>0.0</td>\n",
              "      <td>0.0</td>\n",
              "      <td>0.0</td>\n",
              "      <td>0.0</td>\n",
              "      <td>0.0</td>\n",
              "      <td>0.0</td>\n",
              "      <td>0.0</td>\n",
              "      <td>0.0</td>\n",
              "      <td>0.0</td>\n",
              "      <td>0.256261</td>\n",
              "    </tr>\n",
              "    <tr>\n",
              "      <th>1</th>\n",
              "      <td>2022-11-01</td>\n",
              "      <td>5</td>\n",
              "      <td>0</td>\n",
              "      <td>0.0</td>\n",
              "      <td>0.0</td>\n",
              "      <td>0.0</td>\n",
              "      <td>0.0</td>\n",
              "      <td>0.0</td>\n",
              "      <td>0.0</td>\n",
              "      <td>0.0</td>\n",
              "      <td>...</td>\n",
              "      <td>7616803.0</td>\n",
              "      <td>7616803.0</td>\n",
              "      <td>7616803.0</td>\n",
              "      <td>0.0</td>\n",
              "      <td>0.0</td>\n",
              "      <td>0.0</td>\n",
              "      <td>7616803.0</td>\n",
              "      <td>7616803.0</td>\n",
              "      <td>7616803.0</td>\n",
              "      <td>0.256261</td>\n",
              "    </tr>\n",
              "    <tr>\n",
              "      <th>2</th>\n",
              "      <td>2022-05-01</td>\n",
              "      <td>6</td>\n",
              "      <td>0</td>\n",
              "      <td>0.0</td>\n",
              "      <td>0.0</td>\n",
              "      <td>0.0</td>\n",
              "      <td>0.0</td>\n",
              "      <td>0.0</td>\n",
              "      <td>0.0</td>\n",
              "      <td>0.0</td>\n",
              "      <td>...</td>\n",
              "      <td>0.0</td>\n",
              "      <td>0.0</td>\n",
              "      <td>0.0</td>\n",
              "      <td>0.0</td>\n",
              "      <td>0.0</td>\n",
              "      <td>0.0</td>\n",
              "      <td>0.0</td>\n",
              "      <td>0.0</td>\n",
              "      <td>0.0</td>\n",
              "      <td>0.256261</td>\n",
              "    </tr>\n",
              "    <tr>\n",
              "      <th>3</th>\n",
              "      <td>2022-09-01</td>\n",
              "      <td>7</td>\n",
              "      <td>0</td>\n",
              "      <td>0.0</td>\n",
              "      <td>0.0</td>\n",
              "      <td>0.0</td>\n",
              "      <td>0.0</td>\n",
              "      <td>0.0</td>\n",
              "      <td>0.0</td>\n",
              "      <td>0.0</td>\n",
              "      <td>...</td>\n",
              "      <td>0.0</td>\n",
              "      <td>0.0</td>\n",
              "      <td>0.0</td>\n",
              "      <td>0.0</td>\n",
              "      <td>0.0</td>\n",
              "      <td>0.0</td>\n",
              "      <td>0.0</td>\n",
              "      <td>0.0</td>\n",
              "      <td>0.0</td>\n",
              "      <td>0.258682</td>\n",
              "    </tr>\n",
              "    <tr>\n",
              "      <th>4</th>\n",
              "      <td>2022-08-01</td>\n",
              "      <td>8</td>\n",
              "      <td>0</td>\n",
              "      <td>0.0</td>\n",
              "      <td>0.0</td>\n",
              "      <td>0.0</td>\n",
              "      <td>0.0</td>\n",
              "      <td>0.0</td>\n",
              "      <td>0.0</td>\n",
              "      <td>0.0</td>\n",
              "      <td>...</td>\n",
              "      <td>0.0</td>\n",
              "      <td>0.0</td>\n",
              "      <td>0.0</td>\n",
              "      <td>0.0</td>\n",
              "      <td>0.0</td>\n",
              "      <td>0.0</td>\n",
              "      <td>0.0</td>\n",
              "      <td>0.0</td>\n",
              "      <td>0.0</td>\n",
              "      <td>0.254164</td>\n",
              "    </tr>\n",
              "    <tr>\n",
              "      <th>...</th>\n",
              "      <td>...</td>\n",
              "      <td>...</td>\n",
              "      <td>...</td>\n",
              "      <td>...</td>\n",
              "      <td>...</td>\n",
              "      <td>...</td>\n",
              "      <td>...</td>\n",
              "      <td>...</td>\n",
              "      <td>...</td>\n",
              "      <td>...</td>\n",
              "      <td>...</td>\n",
              "      <td>...</td>\n",
              "      <td>...</td>\n",
              "      <td>...</td>\n",
              "      <td>...</td>\n",
              "      <td>...</td>\n",
              "      <td>...</td>\n",
              "      <td>...</td>\n",
              "      <td>...</td>\n",
              "      <td>...</td>\n",
              "      <td>...</td>\n",
              "    </tr>\n",
              "    <tr>\n",
              "      <th>14451</th>\n",
              "      <td>2022-07-01</td>\n",
              "      <td>1241</td>\n",
              "      <td>0</td>\n",
              "      <td>0.0</td>\n",
              "      <td>0.0</td>\n",
              "      <td>0.0</td>\n",
              "      <td>0.0</td>\n",
              "      <td>0.0</td>\n",
              "      <td>0.0</td>\n",
              "      <td>0.0</td>\n",
              "      <td>...</td>\n",
              "      <td>0.0</td>\n",
              "      <td>0.0</td>\n",
              "      <td>0.0</td>\n",
              "      <td>0.0</td>\n",
              "      <td>0.0</td>\n",
              "      <td>0.0</td>\n",
              "      <td>0.0</td>\n",
              "      <td>0.0</td>\n",
              "      <td>0.0</td>\n",
              "      <td>0.276902</td>\n",
              "    </tr>\n",
              "    <tr>\n",
              "      <th>14452</th>\n",
              "      <td>2022-09-01</td>\n",
              "      <td>1969</td>\n",
              "      <td>1</td>\n",
              "      <td>0.0</td>\n",
              "      <td>0.0</td>\n",
              "      <td>0.0</td>\n",
              "      <td>0.0</td>\n",
              "      <td>0.0</td>\n",
              "      <td>0.0</td>\n",
              "      <td>0.0</td>\n",
              "      <td>...</td>\n",
              "      <td>0.0</td>\n",
              "      <td>0.0</td>\n",
              "      <td>0.0</td>\n",
              "      <td>0.0</td>\n",
              "      <td>0.0</td>\n",
              "      <td>0.0</td>\n",
              "      <td>0.0</td>\n",
              "      <td>0.0</td>\n",
              "      <td>0.0</td>\n",
              "      <td>0.260516</td>\n",
              "    </tr>\n",
              "    <tr>\n",
              "      <th>14453</th>\n",
              "      <td>2022-02-01</td>\n",
              "      <td>7116</td>\n",
              "      <td>1</td>\n",
              "      <td>0.0</td>\n",
              "      <td>0.0</td>\n",
              "      <td>0.0</td>\n",
              "      <td>0.0</td>\n",
              "      <td>0.0</td>\n",
              "      <td>0.0</td>\n",
              "      <td>0.0</td>\n",
              "      <td>...</td>\n",
              "      <td>0.0</td>\n",
              "      <td>0.0</td>\n",
              "      <td>0.0</td>\n",
              "      <td>0.0</td>\n",
              "      <td>0.0</td>\n",
              "      <td>0.0</td>\n",
              "      <td>0.0</td>\n",
              "      <td>0.0</td>\n",
              "      <td>0.0</td>\n",
              "      <td>0.260005</td>\n",
              "    </tr>\n",
              "    <tr>\n",
              "      <th>14454</th>\n",
              "      <td>2021-08-01</td>\n",
              "      <td>7117</td>\n",
              "      <td>0</td>\n",
              "      <td>0.0</td>\n",
              "      <td>0.0</td>\n",
              "      <td>0.0</td>\n",
              "      <td>0.0</td>\n",
              "      <td>0.0</td>\n",
              "      <td>0.0</td>\n",
              "      <td>0.0</td>\n",
              "      <td>...</td>\n",
              "      <td>0.0</td>\n",
              "      <td>0.0</td>\n",
              "      <td>0.0</td>\n",
              "      <td>0.0</td>\n",
              "      <td>0.0</td>\n",
              "      <td>0.0</td>\n",
              "      <td>0.0</td>\n",
              "      <td>0.0</td>\n",
              "      <td>0.0</td>\n",
              "      <td>0.256261</td>\n",
              "    </tr>\n",
              "    <tr>\n",
              "      <th>14455</th>\n",
              "      <td>2022-03-01</td>\n",
              "      <td>849</td>\n",
              "      <td>0</td>\n",
              "      <td>0.0</td>\n",
              "      <td>0.0</td>\n",
              "      <td>0.0</td>\n",
              "      <td>0.0</td>\n",
              "      <td>0.0</td>\n",
              "      <td>0.0</td>\n",
              "      <td>0.0</td>\n",
              "      <td>...</td>\n",
              "      <td>0.0</td>\n",
              "      <td>0.0</td>\n",
              "      <td>0.0</td>\n",
              "      <td>0.0</td>\n",
              "      <td>0.0</td>\n",
              "      <td>0.0</td>\n",
              "      <td>0.0</td>\n",
              "      <td>0.0</td>\n",
              "      <td>0.0</td>\n",
              "      <td>0.293904</td>\n",
              "    </tr>\n",
              "  </tbody>\n",
              "</table>\n",
              "<p>14456 rows × 2666 columns</p>\n",
              "</div>"
            ],
            "text/plain": [
              "      report_date  client_id  target  col1  col2  col3  col4  col5  col6  \\\n",
              "0      2022-11-01          1       0   0.0   0.0   0.0   0.0   0.0   0.0   \n",
              "1      2022-11-01          5       0   0.0   0.0   0.0   0.0   0.0   0.0   \n",
              "2      2022-05-01          6       0   0.0   0.0   0.0   0.0   0.0   0.0   \n",
              "3      2022-09-01          7       0   0.0   0.0   0.0   0.0   0.0   0.0   \n",
              "4      2022-08-01          8       0   0.0   0.0   0.0   0.0   0.0   0.0   \n",
              "...           ...        ...     ...   ...   ...   ...   ...   ...   ...   \n",
              "14451  2022-07-01       1241       0   0.0   0.0   0.0   0.0   0.0   0.0   \n",
              "14452  2022-09-01       1969       1   0.0   0.0   0.0   0.0   0.0   0.0   \n",
              "14453  2022-02-01       7116       1   0.0   0.0   0.0   0.0   0.0   0.0   \n",
              "14454  2021-08-01       7117       0   0.0   0.0   0.0   0.0   0.0   0.0   \n",
              "14455  2022-03-01        849       0   0.0   0.0   0.0   0.0   0.0   0.0   \n",
              "\n",
              "       col7  ...    col2654    col2655    col2656  col2657  col2658  col2659  \\\n",
              "0       0.0  ...        0.0        0.0        0.0      0.0      0.0      0.0   \n",
              "1       0.0  ...  7616803.0  7616803.0  7616803.0      0.0      0.0      0.0   \n",
              "2       0.0  ...        0.0        0.0        0.0      0.0      0.0      0.0   \n",
              "3       0.0  ...        0.0        0.0        0.0      0.0      0.0      0.0   \n",
              "4       0.0  ...        0.0        0.0        0.0      0.0      0.0      0.0   \n",
              "...     ...  ...        ...        ...        ...      ...      ...      ...   \n",
              "14451   0.0  ...        0.0        0.0        0.0      0.0      0.0      0.0   \n",
              "14452   0.0  ...        0.0        0.0        0.0      0.0      0.0      0.0   \n",
              "14453   0.0  ...        0.0        0.0        0.0      0.0      0.0      0.0   \n",
              "14454   0.0  ...        0.0        0.0        0.0      0.0      0.0      0.0   \n",
              "14455   0.0  ...        0.0        0.0        0.0      0.0      0.0      0.0   \n",
              "\n",
              "         col2660    col2661    col2662   col2663  \n",
              "0            0.0        0.0        0.0  0.256261  \n",
              "1      7616803.0  7616803.0  7616803.0  0.256261  \n",
              "2            0.0        0.0        0.0  0.256261  \n",
              "3            0.0        0.0        0.0  0.258682  \n",
              "4            0.0        0.0        0.0  0.254164  \n",
              "...          ...        ...        ...       ...  \n",
              "14451        0.0        0.0        0.0  0.276902  \n",
              "14452        0.0        0.0        0.0  0.260516  \n",
              "14453        0.0        0.0        0.0  0.260005  \n",
              "14454        0.0        0.0        0.0  0.256261  \n",
              "14455        0.0        0.0        0.0  0.293904  \n",
              "\n",
              "[14456 rows x 2666 columns]"
            ]
          },
          "execution_count": 6,
          "metadata": {},
          "output_type": "execute_result"
        }
      ],
      "source": [
        "train"
      ]
    },
    {
      "cell_type": "code",
      "execution_count": 79,
      "metadata": {
        "id": "ph656S3ueUAC"
      },
      "outputs": [],
      "source": [
        "del_cols = ['col1280', 'col1279', 'col1278', 'col1277', 'col1276', 'col1275', 'col1274', 'col1273', 'col1180', 'col1172','col1171', 'col1170', 'col1076', 'col188',\n",
        "            'col189', 'col190', 'col191', 'col192', 'col194', 'col195'] # 'col559' del 'col192'col195 col1172"
      ]
    },
    {
      "cell_type": "code",
      "execution_count": 8,
      "metadata": {
        "id": "rI3P9q00vBLI"
      },
      "outputs": [],
      "source": [
        "del_cols = ['col1280', 'col1279', 'col1278', 'col1277', 'col1276', 'col1275', 'col1274', 'col1273', 'col1180', 'col1172','col1171', 'col1170', 'col1076', 'col188',\n",
        "            'col189', 'col190', 'col191', 'col192', 'col194', 'col195', 'col819', 'col820', 'col823', 'col824']"
      ]
    },
    {
      "cell_type": "code",
      "execution_count": 10,
      "metadata": {
        "id": "CslpCq_NeUAD"
      },
      "outputs": [],
      "source": [
        "def remove_repetitions(first_list, second_list):\n",
        "    return [element for element in first_list if element not in second_list]\n",
        "\n",
        "\n",
        "cat_cols = remove_repetitions(cat_cols, del_cols)"
      ]
    },
    {
      "cell_type": "code",
      "execution_count": 29,
      "metadata": {
        "colab": {
          "base_uri": "https://localhost:8080/"
        },
        "id": "D9mAxwrI4Ufa",
        "outputId": "185e4638-4c94-4220-fedb-516e69d4d634"
      },
      "outputs": [
        {
          "data": {
            "text/plain": [
              "report_date        0\n",
              "client_id          0\n",
              "target             0\n",
              "col1           14453\n",
              "col2           14450\n",
              "               ...  \n",
              "col2659        13950\n",
              "col2660         6420\n",
              "col2661         6420\n",
              "col2662         6420\n",
              "col2663            0\n",
              "Length: 2642, dtype: int64"
            ]
          },
          "execution_count": 29,
          "metadata": {},
          "output_type": "execute_result"
        }
      ],
      "source": [
        "train.isna().sum()"
      ]
    },
    {
      "cell_type": "code",
      "execution_count": 14,
      "metadata": {
        "id": "Fht5b6yUeUAE"
      },
      "outputs": [],
      "source": [
        "train = train.sample(frac=1).reset_index(drop=True)"
      ]
    },
    {
      "cell_type": "code",
      "execution_count": 11,
      "metadata": {
        "id": "jpGezvx4eUAE"
      },
      "outputs": [],
      "source": [
        "onehotencoder = OneHotEncoder(sparse_output = False)\n",
        "stand_sc = StandardScaler()\n",
        "\n",
        "data_ohe = pd.DataFrame(onehotencoder.fit_transform(train[cat_cols]))\n",
        "data_num_cols = stand_sc.fit_transform(train[num_cols])\n",
        "# data_num_cols = rob_sc.fit_transform(data[num_cols])\n",
        "data_norm = pd.DataFrame(data_num_cols, columns=num_cols).join(data_ohe)\n",
        "# y = data_norm[data_norm.columns[-1]].values\n",
        "# X = data_norm[data_norm.columns[:-1]].values\n",
        "\n",
        "y = train['target'].values\n",
        "X = data_norm[data_norm.columns[:-1]].values\n",
        "\n"
      ]
    },
    {
      "cell_type": "code",
      "execution_count": 12,
      "metadata": {},
      "outputs": [
        {
          "name": "stdout",
          "output_type": "stream",
          "text": [
            "[0 1] [0 1]\n"
          ]
        }
      ],
      "source": [
        "X_train, X_test, y_train, y_test = train_test_split(X, y, test_size = 0.2, random_state=62, stratify=y)\n",
        "print(np.unique(y_train), np.unique(y_test))"
      ]
    },
    {
      "cell_type": "code",
      "execution_count": 25,
      "metadata": {
        "colab": {
          "base_uri": "https://localhost:8080/"
        },
        "id": "AJTc4d_QeUAF",
        "outputId": "e32799ba-3527-4677-83a9-2e73386cc9c7"
      },
      "outputs": [
        {
          "name": "stdout",
          "output_type": "stream",
          "text": [
            "[0 1] [0 1]\n"
          ]
        }
      ],
      "source": [
        "print(np.unique(y_train), np.unique(y_test))"
      ]
    },
    {
      "cell_type": "code",
      "execution_count": null,
      "metadata": {
        "id": "z9hrW2PQeUAG",
        "outputId": "350ba73f-02c0-4c34-e57d-3106d61c27c0"
      },
      "outputs": [
        {
          "data": {
            "text/plain": [
              "2892"
            ]
          },
          "execution_count": 55,
          "metadata": {},
          "output_type": "execute_result"
        }
      ],
      "source": [
        "len(y_test)"
      ]
    },
    {
      "cell_type": "code",
      "execution_count": 23,
      "metadata": {},
      "outputs": [
        {
          "data": {
            "application/vnd.jupyter.widget-view+json": {
              "model_id": "96ad92fbbbf040eb81e839471d927b71",
              "version_major": 2,
              "version_minor": 0
            },
            "text/plain": [
              "MetricVisualizer(layout=Layout(align_self='stretch', height='500px'))"
            ]
          },
          "metadata": {},
          "output_type": "display_data"
        },
        {
          "name": "stdout",
          "output_type": "stream",
          "text": [
            "Training on fold [0/5]\n",
            "\n",
            "bestTest = 0.04630679916\n",
            "bestIteration = 149\n",
            "\n",
            "Training on fold [1/5]\n",
            "\n",
            "bestTest = 0.05424513051\n",
            "bestIteration = 146\n",
            "\n",
            "Training on fold [2/5]\n",
            "\n",
            "bestTest = 0.05838743799\n",
            "bestIteration = 148\n",
            "\n",
            "Training on fold [3/5]\n",
            "\n",
            "bestTest = 0.04777474765\n",
            "bestIteration = 143\n",
            "\n",
            "Training on fold [4/5]\n",
            "\n",
            "bestTest = 0.06821835575\n",
            "bestIteration = 149\n",
            "\n"
          ]
        }
      ],
      "source": [
        "from catboost import cv\n",
        "\n",
        "params = {\n",
        "    'loss_function': 'Logloss',\n",
        "    'iterations': 150,\n",
        "    'custom_loss': 'AUC',\n",
        "    'random_seed': 63,\n",
        "    'learning_rate': 0.5\n",
        "}\n",
        "\n",
        "from catboost import Pool\n",
        "train_pool = Pool(data=X, label=y, has_header=True)\n",
        "\n",
        "cv_data = cv(\n",
        "    params=params,\n",
        "    pool=Pool(X, label=y,),\n",
        "    fold_count=5, # Разбивка выборки на 5 кусочков\n",
        "    shuffle=True, # Перемешаем наши данные\n",
        "    partition_random_seed=0,\n",
        "    plot=True, # Никуда без визуализатора\n",
        "    stratified=True, \n",
        "    verbose=False\n",
        ")"
      ]
    },
    {
      "cell_type": "code",
      "execution_count": 24,
      "metadata": {},
      "outputs": [
        {
          "name": "stdout",
          "output_type": "stream",
          "text": [
            "Best validation Logloss score : 0.0551±0.0088 on step 148\n"
          ]
        }
      ],
      "source": [
        "def print_cv_summary(cv_data):\n",
        "    cv_data.head(10)\n",
        "\n",
        "    best_value = cv_data['test-Logloss-mean'].min()\n",
        "    best_iter = cv_data['test-Logloss-mean'].values.argmin()\n",
        "\n",
        "    print('Best validation Logloss score : {:.4f}±{:.4f} on step {}'.format(\n",
        "        best_value,\n",
        "        cv_data['test-Logloss-std'][best_iter],\n",
        "        best_iter)\n",
        "    )\n",
        "print_cv_summary(cv_data)"
      ]
    },
    {
      "cell_type": "code",
      "execution_count": 16,
      "metadata": {},
      "outputs": [],
      "source": [
        "from catboost import Pool, EShapCalcType, EFeaturesSelectionAlgorithm\n",
        "\n",
        "feature_names = ['F{}'.format(i) for i in range(X_train.shape[1])]\n",
        "train_pool = Pool(X_train, y_train, feature_names=feature_names)\n",
        "test_pool = Pool(X_test, y_test, feature_names=feature_names)\n",
        "\n",
        "model = CatBoostClassifier(iterations=1000, random_seed=0)\n",
        "summary = model.select_features(\n",
        "    train_pool,\n",
        "    eval_set=test_pool,\n",
        "    features_for_select=feature_names,\n",
        "    num_features_to_select=50,\n",
        "    steps=3,\n",
        "    algorithm=EFeaturesSelectionAlgorithm.RecursiveByShapValues,\n",
        "    shap_calc_type=EShapCalcType.Regular,\n",
        "    train_final_model=True,\n",
        "    logging_level='Silent',\n",
        "    plot=True\n",
        ")"
      ]
    },
    {
      "cell_type": "code",
      "execution_count": 11,
      "metadata": {
        "colab": {
          "referenced_widgets": [
            "9a02da33df0146118f7f7bc4f2924f75"
          ]
        },
        "id": "PAAqCJngeUAH",
        "outputId": "0d19dca4-45b7-458f-e56a-77c236ff27ea"
      },
      "outputs": [
        {
          "data": {
            "application/vnd.jupyter.widget-view+json": {
              "model_id": "7be74e4fe7124d619399106a0c14c111",
              "version_major": 2,
              "version_minor": 0
            },
            "text/plain": [
              "MetricVisualizer(layout=Layout(align_self='stretch', height='500px'))"
            ]
          },
          "metadata": {},
          "output_type": "display_data"
        },
        {
          "ename": "",
          "evalue": "",
          "output_type": "error",
          "traceback": [
            "\u001b[1;31mThe Kernel crashed while executing code in the the current cell or a previous cell. Please review the code in the cell(s) to identify a possible cause of the failure. Click <a href='https://aka.ms/vscodeJupyterKernelCrash'>here</a> for more info. View Jupyter <a href='command:jupyter.viewOutput'>log</a> for further details."
          ]
        }
      ],
      "source": [
        "# train = train.drop(cat_cols, axis=1)\n",
        "# X = data_norm.drop(['target'], axis = 1) #.fillna(0) # 'ID_LAT_LON_YEAR_WEEK', 'location',\n",
        "# y = data_norm['target']\n",
        "# X_train, X_test, y_train, y_test = train_test_split(X, y, test_size = 0.2)\n",
        "\n",
        "# CatBoostClassifier\n",
        "cat = CatBoostClassifier(\n",
        "    # cat_features=cat_cols,\n",
        "    iterations=100,\n",
        "    task_type=\"GPU\",\n",
        "    depth=10,\n",
        "    # random_seed=42,\n",
        "    loss_function='Logloss' #  No boosting_type='Plain', bootstrap_type='Bernoulli',\n",
        "    )\n",
        "\n",
        "cat.fit(X_train,\n",
        "        y_train,\n",
        "        # cat_features=cat_cols,\n",
        "        verbose=False,\n",
        "        plot=True,\n",
        "        eval_set=(X_test, y_test)\n",
        "        )\n",
        "\n",
        "\n",
        "y_pred = cat.predict(X_test)\n",
        "\n",
        "print(f'Roc Auc Score: {roc_auc_score(y_test, y_pred)}') # , squared=False"
      ]
    },
    {
      "cell_type": "code",
      "execution_count": null,
      "metadata": {
        "id": "aWURRYjveUAI",
        "outputId": "dec23c77-d210-4fc3-a44c-83d372b2f58f"
      },
      "outputs": [
        {
          "data": {
            "text/plain": [
              "array([0., 1.])"
            ]
          },
          "execution_count": 26,
          "metadata": {},
          "output_type": "execute_result"
        }
      ],
      "source": [
        "np.unique(y)"
      ]
    },
    {
      "cell_type": "code",
      "execution_count": null,
      "metadata": {
        "id": "P_WbJU7_eUAI",
        "outputId": "11f1e758-46d3-428d-b0fc-d75b7cac1d5b"
      },
      "outputs": [
        {
          "data": {
            "text/plain": [
              "Text(0.5, 0, 'False Positive Rate')"
            ]
          },
          "execution_count": 29,
          "metadata": {},
          "output_type": "execute_result"
        },
        {
          "data": {
            "image/png": "[encoded data removed]",
            "text/plain": [
              "<Figure size 640x480 with 1 Axes>"
            ]
          },
          "metadata": {},
          "output_type": "display_data"
        }
      ],
      "source": [
        "probs = cat.predict_proba(X_test)\n",
        "preds = probs[:,1]\n",
        "fpr, tpr, threshold = metrics.roc_curve(y_test, preds)\n",
        "roc_auc = metrics.auc(fpr, tpr)\n",
        "# method I: plt\n",
        "import matplotlib.pyplot as plt\n",
        "plt.title('Receiver Operating Characteristic')\n",
        "plt.plot(fpr, tpr, 'b', label = 'AUC = %0.2f' % roc_auc)\n",
        "plt.ylabel('True Positive Rate')\n",
        "plt.xlabel('False Positive Rate')"
      ]
    },
    {
      "cell_type": "code",
      "execution_count": null,
      "metadata": {
        "id": "VhxTdG-VeUAJ",
        "outputId": "cda6c8a6-d009-4c64-8892-6961df5c6ae5"
      },
      "outputs": [
        {
          "data": {
            "image/png": "[encoded data removed]",
            "text/plain": [
              "<Figure size 1600x600 with 2 Axes>"
            ]
          },
          "metadata": {},
          "output_type": "display_data"
        }
      ],
      "source": [
        "corr_matrix = data.fillna(0).corr()\n",
        "\n",
        "plt.figure(figsize=(16, 6))\n",
        "sns.heatmap(corr_matrix, vmin=-1, vmax=1, annot=True, cmap=\"BuPu\").set_title('Correlation Heatmap', fontdict={'fontsize':12}, pad=12)\n",
        "plt.show()"
      ]
    }
  ],
  "metadata": {
    "colab": {
      "provenance": []
    },
    "kernelspec": {
      "display_name": "Python 3",
      "language": "python",
      "name": "python3"
    },
    "language_info": {
      "codemirror_mode": {
        "name": "ipython",
        "version": 3
      },
      "file_extension": ".py",
      "mimetype": "text/x-python",
      "name": "python",
      "nbconvert_exporter": "python",
      "pygments_lexer": "ipython3",
      "version": "3.10.11"
    },
    "orig_nbformat": 4
  },
  "nbformat": 4,
  "nbformat_minor": 0
}
